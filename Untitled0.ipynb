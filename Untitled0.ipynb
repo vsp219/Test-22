{
  "nbformat": 4,
  "nbformat_minor": 0,
  "metadata": {
    "colab": {
      "name": "Untitled0.ipynb",
      "provenance": [],
      "authorship_tag": "ABX9TyMuTg/sku7eHvSg3yJ7SJOT",
      "include_colab_link": true
    },
    "kernelspec": {
      "name": "python3",
      "display_name": "Python 3"
    }
  },
  "cells": [
    {
      "cell_type": "markdown",
      "metadata": {
        "id": "view-in-github",
        "colab_type": "text"
      },
      "source": [
        "<a href=\"https://colab.research.google.com/github/vsp219/Test-22/blob/master/Untitled0.ipynb\" target=\"_parent\"><img src=\"https://colab.research.google.com/assets/colab-badge.svg\" alt=\"Open In Colab\"/></a>"
      ]
    },
    {
      "cell_type": "code",
      "metadata": {
        "id": "axWZm9KmoLur",
        "colab_type": "code",
        "colab": {}
      },
      "source": [
        "import numpy as np\n",
        "import pandas as pd\n",
        "\n",
        "\n"
      ],
      "execution_count": 0,
      "outputs": []
    },
    {
      "cell_type": "code",
      "metadata": {
        "id": "oD1JPqlkqqgR",
        "colab_type": "code",
        "colab": {}
      },
      "source": [
        "File=pd.read_csv(\"https://raw.githubusercontent.com/vsp219/Test-22/master/TB_data_dictionary_2020-04-02.csv\",encoding='latin1')"
      ],
      "execution_count": 0,
      "outputs": []
    },
    {
      "cell_type": "code",
      "metadata": {
        "id": "R6QbhmtHqtb_",
        "colab_type": "code",
        "colab": {
          "base_uri": "https://localhost:8080/",
          "height": 204
        },
        "outputId": "96c8718a-3890-42f5-8324-8d1eb61ebe28"
      },
      "source": [
        "File.head()"
      ],
      "execution_count": 8,
      "outputs": [
        {
          "output_type": "execute_result",
          "data": {
            "text/html": [
              "<div>\n",
              "<style scoped>\n",
              "    .dataframe tbody tr th:only-of-type {\n",
              "        vertical-align: middle;\n",
              "    }\n",
              "\n",
              "    .dataframe tbody tr th {\n",
              "        vertical-align: top;\n",
              "    }\n",
              "\n",
              "    .dataframe thead th {\n",
              "        text-align: right;\n",
              "    }\n",
              "</style>\n",
              "<table border=\"1\" class=\"dataframe\">\n",
              "  <thead>\n",
              "    <tr style=\"text-align: right;\">\n",
              "      <th></th>\n",
              "      <th>variable_name</th>\n",
              "      <th>dataset</th>\n",
              "      <th>code_list</th>\n",
              "      <th>definition</th>\n",
              "    </tr>\n",
              "  </thead>\n",
              "  <tbody>\n",
              "    <tr>\n",
              "      <th>0</th>\n",
              "      <td>budget_cpp_dstb</td>\n",
              "      <td>Budget</td>\n",
              "      <td>NaN</td>\n",
              "      <td>Average cost of drugs budgeted per patient for...</td>\n",
              "    </tr>\n",
              "    <tr>\n",
              "      <th>1</th>\n",
              "      <td>budget_cpp_mdr</td>\n",
              "      <td>Budget</td>\n",
              "      <td>NaN</td>\n",
              "      <td>Average cost of drugs budgeted per patient for...</td>\n",
              "    </tr>\n",
              "    <tr>\n",
              "      <th>2</th>\n",
              "      <td>budget_cpp_xdr</td>\n",
              "      <td>Budget</td>\n",
              "      <td>NaN</td>\n",
              "      <td>Average cost of drugs budgeted per patient for...</td>\n",
              "    </tr>\n",
              "    <tr>\n",
              "      <th>3</th>\n",
              "      <td>budget_fld</td>\n",
              "      <td>Budget</td>\n",
              "      <td>NaN</td>\n",
              "      <td>Budget required for drugs to treat drug-suscep...</td>\n",
              "    </tr>\n",
              "    <tr>\n",
              "      <th>4</th>\n",
              "      <td>budget_lab</td>\n",
              "      <td>Budget</td>\n",
              "      <td>NaN</td>\n",
              "      <td>Budget required for laboratory infrastructure,...</td>\n",
              "    </tr>\n",
              "  </tbody>\n",
              "</table>\n",
              "</div>"
            ],
            "text/plain": [
              "     variable_name  ...                                         definition\n",
              "0  budget_cpp_dstb  ...  Average cost of drugs budgeted per patient for...\n",
              "1   budget_cpp_mdr  ...  Average cost of drugs budgeted per patient for...\n",
              "2   budget_cpp_xdr  ...  Average cost of drugs budgeted per patient for...\n",
              "3       budget_fld  ...  Budget required for drugs to treat drug-suscep...\n",
              "4       budget_lab  ...  Budget required for laboratory infrastructure,...\n",
              "\n",
              "[5 rows x 4 columns]"
            ]
          },
          "metadata": {
            "tags": []
          },
          "execution_count": 8
        }
      ]
    }
  ]
}